{
 "cells": [
  {
   "cell_type": "markdown",
   "metadata": {},
   "source": [
    "# How should Skyfield handle Earth deflection?\n",
    "\n",
    "The NOVAS library attempts to account for how light is deflected by the Earth itself for a topocentric observation. It happens in `place()`:\n",
    "\n",
    "1. The assignment `loc = 1` is made for both topocentric place and local place.\n",
    "2. But it has one chance to wind up zero anyway: the call `limb_angle()` is made to determine the target’s nadir angle as a fraction of the Earth’s angular radius (which is π/2 for an observer on the surface, and shrinks with the observer’s altitude above the surface). If the result is `< 0.8`, meaning that the object is well below the horizon, then `loc` is reset with `loc = 0`.\n",
    "3. Finally, `loc` becomes the second argument to `grav_def()`, named `loc_code`, that flags whether Earth deflection should be included in its result.\n",
    "\n",
    "## Why the value 0.8?\n",
    "\n",
    "Is deflection not considered when the limb angle is `< 0.8` because the effect is so small in that case that it is not worth considering? That would be surprising, as I would expect deflection to increase as an object moves behind the object deflecting it. Maybe the deflection is not considered because of realism: you cannot see the object anyway if it has moved behind the Earth? But in that case, wouldn’t the sudden cut-off cause an unpleasant discontinuity?\n",
    "\n"
   ]
  },
  {
   "cell_type": "code",
   "execution_count": 12,
   "metadata": {
    "collapsed": false
   },
   "outputs": [
    {
     "name": "stdout",
     "output_type": "stream",
     "text": [
      "Populating the interactive namespace from numpy and matplotlib\n"
     ]
    },
    {
     "name": "stderr",
     "output_type": "stream",
     "text": [
      "WARNING: pylab import has clobbered these variables: ['degrees']\n",
      "`%matplotlib` prevents importing * from pylab and numpy\n"
     ]
    }
   ],
   "source": [
    "%pylab inline\n",
    "import seaborn as sbs\n",
    "from novas import compat as novas\n",
    "from novas.compat import eph_manager\n",
    "\n",
    "jd_start, jd_end, number = eph_manager.ephem_open()"
   ]
  },
  {
   "cell_type": "code",
   "execution_count": 13,
   "metadata": {
    "collapsed": false
   },
   "outputs": [
    {
     "name": "stdout",
     "output_type": "stream",
     "text": [
      "It takes 332946.050895 Earth masses to equal the mass of the Sun\n"
     ]
    }
   ],
   "source": [
    "RMASS = [328900.561400, 6023600.0, 408523.71,\n",
    "      332946.050895, 3098708.0, 1047.3486, 3497.898, 22902.98,\n",
    "      19412.24, 135200000.0, 1.0, 27068700.387534]\n",
    "\n",
    "print 'It takes', RMASS[3], 'Earth masses to equal the mass of the Sun'"
   ]
  },
  {
   "cell_type": "code",
   "execution_count": 14,
   "metadata": {
    "collapsed": false
   },
   "outputs": [],
   "source": [
    "#dir(novas)"
   ]
  },
  {
   "cell_type": "code",
   "execution_count": 15,
   "metadata": {
    "collapsed": false
   },
   "outputs": [
    {
     "name": "stdout",
     "output_type": "stream",
     "text": [
      "The earth is 4.26e-05 au in radius\n"
     ]
    }
   ],
   "source": [
    "ERAD = 6378136.6             # meters (from NOVAS source code)\n",
    "AU = 1.4959787069098932e+11  # meters (from NOVAS source code)\n",
    "ERAD_AU = ERAD / AU\n",
    "print 'The earth is {:.3} au in radius'.format(ERAD_AU)"
   ]
  },
  {
   "cell_type": "code",
   "execution_count": 16,
   "metadata": {
    "collapsed": true
   },
   "outputs": [],
   "source": [
    "def deflection_at(degrees):\n",
    "    theta = pi / 180.0 * degrees\n",
    "    pos1 = [sin(theta), 0, cos(theta)]  # object at 1 AU on +z axis\n",
    "    pos_obs = [0, 0, 0]                 # observer at origin\n",
    "    pos_body = [0, 0, ERAD_AU]          # Earth center on +z axis\n",
    "    pos2 = novas.grav_vec(pos1, pos_obs, pos_body, RMASS[3])\n",
    "    theta2 = arctan2(pos2[0], pos2[2])\n",
    "    return 180.0 / pi * theta2"
   ]
  },
  {
   "cell_type": "code",
   "execution_count": 17,
   "metadata": {
    "collapsed": false
   },
   "outputs": [
    {
     "data": {
      "text/plain": [
       "[<matplotlib.lines.Line2D at 0x7f75dbc8b8d0>]"
      ]
     },
     "execution_count": 17,
     "metadata": {},
     "output_type": "execute_result"
    },
    {
     "data": {
      "image/png": "[encoded data removed]",
      "text/plain": [
       "<matplotlib.figure.Figure at 0x7f75dbd985d0>"
      ]
     },
     "metadata": {},
     "output_type": "display_data"
    }
   ],
   "source": [
    "limit = 90.0 * 0.8\n",
    "degrees = linspace(limit, 180.0, 101)\n",
    "degrees2 = [deflection_at(i) for i in degrees]\n",
    "mas = 60 * 60 * 1000 * (degrees2 - degrees)\n",
    "plot(degrees, mas)"
   ]
  },
  {
   "cell_type": "code",
   "execution_count": 18,
   "metadata": {
    "collapsed": false
   },
   "outputs": [
    {
     "data": {
      "text/plain": [
       "[<matplotlib.lines.Line2D at 0x7f75d764c350>]"
      ]
     },
     "execution_count": 18,
     "metadata": {},
     "output_type": "execute_result"
    },
    {
     "data": {
      "image/png": "[encoded data removed]",
      "text/plain": [
       "<matplotlib.figure.Figure at 0x7f75dbcbc3d0>"
      ]
     },
     "metadata": {},
     "output_type": "display_data"
    }
   ],
   "source": [
    "degrees = linspace(0.0, 1.0, 101)\n",
    "degrees2 = [deflection_at(i) for i in degrees]\n",
    "mas = 60 * 60 * 1000 * (degrees2 - degrees)\n",
    "plot(degrees, mas)"
   ]
  },
  {
   "cell_type": "markdown",
   "metadata": {},
   "source": [
    "# So - creates a step function?\n",
    "\n",
    "We need to find a moment when another body crests 0.8 behind the Earth. This should happen each evening when the object sets!"
   ]
  },
  {
   "cell_type": "code",
   "execution_count": 96,
   "metadata": {
    "collapsed": false
   },
   "outputs": [],
   "source": [
    "mars = novas.make_object(0, 4, 'Mars', None)\n",
    "\n",
    "latitude = 35.2029\n",
    "longitude = -111.6646\n",
    "height = 2210  # meters\n",
    "temperature = 25.0\n",
    "pressure = 0.0\n",
    "lowell = novas.make_on_surface(latitude, longitude, height, temperature, pressure)\n",
    "\n",
    "def mars_radec(hour):\n",
    "    jd_tt = novas.julian_date(2016, 7, 2, hour)\n",
    "    ra, dec, dis = novas.topo_planet(jd_tt, 0.0, mars, lowell)\n",
    "    return ra, dec"
   ]
  },
  {
   "cell_type": "code",
   "execution_count": 131,
   "metadata": {
    "collapsed": false
   },
   "outputs": [
    {
     "data": {
      "text/plain": [
       "[<matplotlib.lines.Line2D at 0x7f75d4e5f290>]"
      ]
     },
     "execution_count": 131,
     "metadata": {},
     "output_type": "execute_result"
    },
    {
     "data": {
      "image/png": "[encoded data removed]",
      "text/plain": [
       "<matplotlib.figure.Figure at 0x7f75d5477d10>"
      ]
     },
     "metadata": {},
     "output_type": "display_data"
    }
   ],
   "source": [
    "hour = linspace(0.0, 23.9, 101)\n",
    "ra = [mars_radec(h)[0] for h in hour]\n",
    "plot(hour, ra)"
   ]
  },
  {
   "cell_type": "markdown",
   "metadata": {},
   "source": [
    "So, when in that day did Mars cross the threshold of being `0.8 * pi` away from the center of the Earth from the point of view of the Lowell Observatory?"
   ]
  },
  {
   "cell_type": "code",
   "execution_count": 132,
   "metadata": {
    "collapsed": true
   },
   "outputs": [],
   "source": [
    "earth = novas.make_object(0, 3, 'Earth', None)\n",
    "lowell2 = novas.make_observer_on_surface(\n",
    "    latitude, longitude, height, temperature, pressure)\n",
    "\n",
    "def to_vector(ra, dec, dis):\n",
    "    ra = pi / 12.0 * ra\n",
    "    dec = pi / 180.0 * dec\n",
    "    x = dis * cos(dec) * cos(ra)\n",
    "    y = dis * cos(dec) * sin(ra)\n",
    "    z = dis * sin(dec)\n",
    "    return x, y, z\n",
    "\n",
    "def nadir_angle(hour):\n",
    "    jd_tt = novas.julian_date(2016, 7, 2, hour)\n",
    "    lowell_pos, lowell_vel = novas.geo_posvel(jd_tt, 0.0, lowell2)\n",
    "    ra, dec, dis = novas.astro_planet(jd_tt, mars)\n",
    "    mx, my, mz = to_vector(ra, dec, dis)\n",
    "    limb_angle, nadir_angle = novas.limb_angle((mx, my, mz), lowell_pos)\n",
    "    return nadir_angle"
   ]
  },
  {
   "cell_type": "code",
   "execution_count": 133,
   "metadata": {
    "collapsed": false
   },
   "outputs": [
    {
     "data": {
      "text/plain": [
       "[<matplotlib.lines.Line2D at 0x7f75d4d8f410>]"
      ]
     },
     "execution_count": 133,
     "metadata": {},
     "output_type": "execute_result"
    },
    {
     "data": {
      "image/png": "[encoded data removed]",
      "text/plain": [
       "<matplotlib.figure.Figure at 0x7f75d4e8ac50>"
      ]
     },
     "metadata": {},
     "output_type": "display_data"
    }
   ],
   "source": [
    "nadir = array([nadir_angle(h) for h in hour])\n",
    "plot(hour, nadir)"
   ]
  },
  {
   "cell_type": "code",
   "execution_count": 142,
   "metadata": {
    "collapsed": false
   },
   "outputs": [
    {
     "name": "stdout",
     "output_type": "stream",
     "text": [
      "[44 89]\n",
      "[ 10.516  21.271]\n"
     ]
    }
   ],
   "source": [
    "indexes, = nonzero(numpy.diff(numpy.sign(nadir - 0.8)))\n",
    "crossings = hour[indexes]\n",
    "print indexes\n",
    "print crossings"
   ]
  },
  {
   "cell_type": "markdown",
   "metadata": {},
   "source": [
    "It looks like the curve crosses 0.8 somewhere between hour 10 and hour 11. If we search for a discontinuity, will we find it at the same place?"
   ]
  },
  {
   "cell_type": "code",
   "execution_count": 130,
   "metadata": {
    "collapsed": false
   },
   "outputs": [],
   "source": [
    "# Takes several seconds to run:\n",
    "\n",
    "hour_highres = linspace(0.0, 23.9, 100000)\n",
    "values = [mars_radec(h)[0] for h in hour_highres]"
   ]
  },
  {
   "cell_type": "code",
   "execution_count": 151,
   "metadata": {
    "collapsed": false
   },
   "outputs": [
    {
     "data": {
      "text/plain": [
       "[<matplotlib.lines.Line2D at 0x7f75d44ba1d0>]"
      ]
     },
     "execution_count": 151,
     "metadata": {},
     "output_type": "execute_result"
    },
    {
     "data": {
      "image/png": "[encoded data removed]",
      "text/plain": [
       "<matplotlib.figure.Figure at 0x7f75d44ba050>"
      ]
     },
     "metadata": {},
     "output_type": "display_data"
    }
   ],
   "source": [
    "plot(hour_highres[:-1], np.diff(values))\n",
    "plot(crossings, [2.5e-8] * len(crossings), 'ro')"
   ]
  },
  {
   "cell_type": "markdown",
   "metadata": {},
   "source": [
    "Remaining mystery: why is the discontinuity not negative when crossing one limb and positive when crossing the other?"
   ]
  },
  {
   "cell_type": "code",
   "execution_count": null,
   "metadata": {
    "collapsed": true
   },
   "outputs": [],
   "source": []
  },
  {
   "cell_type": "code",
   "execution_count": null,
   "metadata": {
    "collapsed": true
   },
   "outputs": [],
   "source": []
  },
  {
   "cell_type": "code",
   "execution_count": null,
   "metadata": {
    "collapsed": true
   },
   "outputs": [],
   "source": []
  },
  {
   "cell_type": "code",
   "execution_count": null,
   "metadata": {
    "collapsed": true
   },
   "outputs": [],
   "source": []
  },
  {
   "cell_type": "code",
   "execution_count": null,
   "metadata": {
    "collapsed": true
   },
   "outputs": [],
   "source": []
  },
  {
   "cell_type": "code",
   "execution_count": null,
   "metadata": {
    "collapsed": true
   },
   "outputs": [],
   "source": []
  },
  {
   "cell_type": "code",
   "execution_count": null,
   "metadata": {
    "collapsed": true
   },
   "outputs": [],
   "source": []
  },
  {
   "cell_type": "code",
   "execution_count": null,
   "metadata": {
    "collapsed": true
   },
   "outputs": [],
   "source": []
  },
  {
   "cell_type": "code",
   "execution_count": null,
   "metadata": {
    "collapsed": true
   },
   "outputs": [],
   "source": []
  }
 ],
 "metadata": {
  "kernelspec": {
   "display_name": "Python 2",
   "language": "python",
   "name": "python2"
  },
  "language_info": {
   "codemirror_mode": {
    "name": "ipython",
    "version": 2
   },
   "file_extension": ".py",
   "mimetype": "text/x-python",
   "name": "python",
   "nbconvert_exporter": "python",
   "pygments_lexer": "ipython2",
   "version": "2.7.12"
  }
 },
 "nbformat": 4,
 "nbformat_minor": 0
}
