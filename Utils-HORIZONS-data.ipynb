{
 "cells": [
  {
   "cell_type": "markdown",
   "metadata": {},
   "source": [
    "How to fetch current physical data for the planets from the HORIZONS system.\n",
    "\n",
    "This data is then cut-and-pasted into Skyfield."
   ]
  },
  {
   "cell_type": "code",
   "execution_count": null,
   "metadata": {
    "collapsed": false
   },
   "outputs": [],
   "source": [
    "%pylab inline"
   ]
  },
  {
   "cell_type": "code",
   "execution_count": null,
   "metadata": {
    "collapsed": false
   },
   "outputs": [],
   "source": [
    "from telnetlib import Telnet\n",
    "\n",
    "def fetch_planet_data():\n",
    "    t = Telnet('horizons.jpl.nasa.gov', 6775)\n",
    "    for n in [10] + [100*i + 99 for i in range(1, 10)]:\n",
    "        t.read_until('Horizons>')\n",
    "        t.write('%s\\r\\n' % n)\n",
    "        yield t.read_until('<cr>:')\n",
    "        t.write('\\r\\n')\n",
    "    t.write('q\\r\\n')\n",
    "    print t.read_all()\n",
    "\n",
    "texts = list(fetch_planet_data())"
   ]
  },
  {
   "cell_type": "markdown",
   "metadata": {},
   "source": [
    "There!\n",
    "\n",
    "With that simple routine complete,\n",
    "we have completed the data fetch,\n",
    "closed the open Telnet connection to the JPL,\n",
    "and can now process the data in peace without bothering them with a connection dangling open."
   ]
  },
  {
   "cell_type": "code",
   "execution_count": null,
   "metadata": {
    "collapsed": false
   },
   "outputs": [],
   "source": [
    "# Here is what the block for the Sun looks like.\n",
    "\n",
    "print texts[0]"
   ]
  },
  {
   "cell_type": "code",
   "execution_count": null,
   "metadata": {
    "collapsed": false
   },
   "outputs": [],
   "source": [
    "# And one of the blocks for a planet.\n",
    "\n",
    "print texts[1]"
   ]
  },
  {
   "cell_type": "code",
   "execution_count": null,
   "metadata": {
    "collapsed": false
   },
   "outputs": [],
   "source": [
    "def parse(text):\n",
    "    for line in text.splitlines():\n",
    "        if line.strip().startswith('Revised'):\n",
    "            name = line[28:60].strip()\n",
    "            yield 'name', name\n",
    "            continue\n",
    "        halfway = line.find(' ', 40)\n",
    "        halves = [line] if (halfway == -1) else [line[:halfway], line[halfway:]]\n",
    "        for half in halves:\n",
    "            if '\\x1b' in half:\n",
    "                continue\n",
    "            if '=' in half:\n",
    "                name, value = half.rsplit('=', 1)\n",
    "            elif '~' in half:\n",
    "                name, value = half.rsplit('~', 1)\n",
    "            else:\n",
    "                continue\n",
    "            yield name.strip(), value.strip()\n",
    "\n",
    "data = [list(parse(text)) for text in texts]"
   ]
  },
  {
   "cell_type": "code",
   "execution_count": null,
   "metadata": {
    "collapsed": false
   },
   "outputs": [],
   "source": [
    "masses = []\n",
    "\n",
    "for items in data:\n",
    "    for k, v in items:\n",
    "        if k == 'name':\n",
    "            name = v\n",
    "            continue\n",
    "        if 'Mass' not in k:\n",
    "            continue\n",
    "        if '10^' not in k:\n",
    "            continue\n",
    "        exponent = k.split('^')[1].split()[0]\n",
    "        mantissa = v.split('+-')[0]\n",
    "        mass = float(mantissa) * 10.0 ** float(exponent)\n",
    "        masses.append((name, mass))\n",
    "\n",
    "print len(masses)\n",
    "masses"
   ]
  },
  {
   "cell_type": "code",
   "execution_count": null,
   "metadata": {
    "collapsed": false
   },
   "outputs": [],
   "source": [
    "radii = []\n",
    "\n",
    "for items in data:\n",
    "    for k, v in items:\n",
    "        if k == 'name':\n",
    "            name = v\n",
    "            continue\n",
    "        if 'adius' not in k:\n",
    "            continue\n",
    "        if 'mean' not in k.lower() and 'Pluto' not in k and 'Solar' not in k:\n",
    "            continue\n",
    "        print k, v\n",
    "        radius_km = float(v.split()[0].split('+-')[0].split('(')[0])\n",
    "        if '10^' in v:\n",
    "            radius_km *= 10 ** int(v.split('10^')[1].split(')')[0])\n",
    "        radii.append((name, radius_km))\n",
    "\n",
    "print len(radii)\n",
    "radii"
   ]
  },
  {
   "cell_type": "code",
   "execution_count": null,
   "metadata": {
    "collapsed": false
   },
   "outputs": [],
   "source": []
  }
 ],
 "metadata": {
  "kernelspec": {
   "display_name": "Python 2",
   "language": "python",
   "name": "python2"
  },
  "language_info": {
   "codemirror_mode": {
    "name": "ipython",
    "version": 2
   },
   "file_extension": ".py",
   "mimetype": "text/x-python",
   "name": "python",
   "nbconvert_exporter": "python",
   "pygments_lexer": "ipython2",
   "version": "2.7.9"
  }
 },
 "nbformat": 4,
 "nbformat_minor": 0
}
