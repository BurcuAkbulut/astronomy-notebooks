{
 "cells": [
  {
   "cell_type": "code",
   "execution_count": 2,
   "metadata": {},
   "outputs": [
    {
     "name": "stdout",
     "output_type": "stream",
     "text": [
      "Populating the interactive namespace from numpy and matplotlib\n",
      "The autoreload extension is already loaded. To reload it, use:\n",
      "  %reload_ext autoreload\n"
     ]
    }
   ],
   "source": [
    "from __future__ import division\n",
    "%pylab inline\n",
    "%load_ext autoreload\n",
    "%autoreload 2\n",
    "import numpy as np\n",
    "import sympy"
   ]
  },
  {
   "cell_type": "code",
   "execution_count": 10,
   "metadata": {},
   "outputs": [],
   "source": [
    "from sympy import *\n",
    "init_printing() "
   ]
  },
  {
   "cell_type": "code",
   "execution_count": 11,
   "metadata": {},
   "outputs": [
    {
     "data": {
      "image/png": "[encoded data removed]",
      "text/latex": [
       "$$\\int e^{x} \\cos{\\left (x \\right )}\\, dx = \\frac{e^{x}}{2} \\sin{\\left (x \\right )} + \\frac{e^{x}}{2} \\cos{\\left (x \\right )}$$"
      ],
      "text/plain": [
       "⌠                 x           x       \n",
       "⎮  x             ℯ ⋅sin(x)   ℯ ⋅cos(x)\n",
       "⎮ ℯ ⋅cos(x) dx = ───────── + ─────────\n",
       "⌡                    2           2    "
      ]
     },
     "execution_count": 11,
     "metadata": {},
     "output_type": "execute_result"
    }
   ],
   "source": [
    "x = symbols('x')\n",
    "a = Integral(cos(x)*exp(x), x)\n",
    "Eq(a, a.doit())"
   ]
  },
  {
   "cell_type": "code",
   "execution_count": 66,
   "metadata": {},
   "outputs": [],
   "source": [
    "x, y, θ, r = symbols('x y θ r')"
   ]
  },
  {
   "cell_type": "code",
   "execution_count": 67,
   "metadata": {},
   "outputs": [],
   "source": [
    "ex = Eq(x, r * cos(θ))\n",
    "ey = Eq(y, r * sin(θ))"
   ]
  },
  {
   "cell_type": "code",
   "execution_count": 68,
   "metadata": {},
   "outputs": [
    {
     "data": {
      "image/png": "[encoded data removed]",
      "text/latex": [
       "$$\\left[\\begin{matrix}\\cos{\\left (θ \\right )} & \\sin{\\left (θ \\right )}\\\\- \\sin{\\left (θ \\right )} & \\cos{\\left (θ \\right )}\\end{matrix}\\right]$$"
      ],
      "text/plain": [
       "⎡cos(θ)   sin(θ)⎤\n",
       "⎢               ⎥\n",
       "⎣-sin(θ)  cos(θ)⎦"
      ]
     },
     "execution_count": 68,
     "metadata": {},
     "output_type": "execute_result"
    }
   ],
   "source": [
    "R = Matrix([[cos(θ), sin(θ)], [-sin(θ), cos(θ)]])\n",
    "R"
   ]
  },
  {
   "cell_type": "code",
   "execution_count": 87,
   "metadata": {},
   "outputs": [
    {
     "data": {
      "image/png": "[encoded data removed]",
      "text/latex": [
       "$$\\left[\\begin{matrix}\\frac{y}{r} & \\sin{\\left (θ \\right )}\\\\- \\sin{\\left (θ \\right )} & \\frac{y}{r}\\end{matrix}\\right]$$"
      ],
      "text/plain": [
       "⎡   y           ⎤\n",
       "⎢   ─     sin(θ)⎥\n",
       "⎢   r           ⎥\n",
       "⎢               ⎥\n",
       "⎢           y   ⎥\n",
       "⎢-sin(θ)    ─   ⎥\n",
       "⎣           r   ⎦"
      ]
     },
     "execution_count": 87,
     "metadata": {},
     "output_type": "execute_result"
    }
   ],
   "source": [
    "R.subs(cos(θ), y/r)"
   ]
  },
  {
   "cell_type": "code",
   "execution_count": 91,
   "metadata": {},
   "outputs": [
    {
     "data": {
      "image/png": "[encoded data removed]",
      "text/latex": [
       "$$\\left[\\begin{matrix}\\cos{\\left (θ \\right )} & \\sin{\\left (θ \\right )}\\\\- \\sin{\\left (θ \\right )} & \\cos{\\left (θ \\right )}\\end{matrix}\\right]$$"
      ],
      "text/plain": [
       "⎡cos(θ)   sin(θ)⎤\n",
       "⎢               ⎥\n",
       "⎣-sin(θ)  cos(θ)⎦"
      ]
     },
     "execution_count": 91,
     "metadata": {},
     "output_type": "execute_result"
    }
   ],
   "source": [
    "(R\n",
    " .subs(cos(θ), solve(ex, cos(θ)))\n",
    " .subs(sin(θ), solve(ey, sin(θ)))\n",
    ")"
   ]
  },
  {
   "cell_type": "code",
   "execution_count": 94,
   "metadata": {},
   "outputs": [
    {
     "data": {
      "image/png": "[encoded data removed]",
      "text/latex": [
       "$$\\left [ \\frac{y}{r}\\right ]$$"
      ],
      "text/plain": [
       "⎡y⎤\n",
       "⎢─⎥\n",
       "⎣r⎦"
      ]
     },
     "execution_count": 94,
     "metadata": {},
     "output_type": "execute_result"
    }
   ],
   "source": [
    "solve(ey, sin(θ))"
   ]
  },
  {
   "cell_type": "code",
   "execution_count": 79,
   "metadata": {},
   "outputs": [],
   "source": [
    "#Eq(x, y * r)"
   ]
  },
  {
   "cell_type": "code",
   "execution_count": 133,
   "metadata": {},
   "outputs": [],
   "source": [
    "from skyfield import projections"
   ]
  },
  {
   "cell_type": "code",
   "execution_count": 184,
   "metadata": {},
   "outputs": [
    {
     "data": {
      "image/png": "[encoded data removed]",
      "text/latex": [
       "$$\\left ( \\frac{\\frac{x y_{c}}{\\sqrt{x_{c}^{2} + y_{c}^{2}}} - \\frac{x_{c} y}{\\sqrt{x_{c}^{2} + y_{c}^{2}}}}{\\frac{x x_{c} \\sqrt{- z_{c}^{2} + 1}}{\\sqrt{x_{c}^{2} + y_{c}^{2}}} + \\frac{y y_{c} \\sqrt{- z_{c}^{2} + 1}}{\\sqrt{x_{c}^{2} + y_{c}^{2}}} + z z_{c} + 1}, \\quad \\frac{- \\frac{x x_{c} z_{c}}{\\sqrt{x_{c}^{2} + y_{c}^{2}}} - \\frac{y y_{c} z_{c}}{\\sqrt{x_{c}^{2} + y_{c}^{2}}} + z \\sqrt{- z_{c}^{2} + 1}}{\\frac{x x_{c} \\sqrt{- z_{c}^{2} + 1}}{\\sqrt{x_{c}^{2} + y_{c}^{2}}} + \\frac{y y_{c} \\sqrt{- z_{c}^{2} + 1}}{\\sqrt{x_{c}^{2} + y_{c}^{2}}} + z z_{c} + 1}\\right )$$"
      ],
      "text/plain": [
       "⎛                                                                             \n",
       "⎜                x⋅y_c              x_c⋅y                        x⋅x_c⋅z_c    \n",
       "⎜           ──────────────── - ────────────────             - ────────────────\n",
       "⎜              _____________      _____________                  _____________\n",
       "⎜             ╱    2      2      ╱    2      2                  ╱    2      2 \n",
       "⎜           ╲╱  x_c  + y_c     ╲╱  x_c  + y_c                 ╲╱  x_c  + y_c  \n",
       "⎜─────────────────────────────────────────────────────────, ──────────────────\n",
       "⎜         ____________            ____________                       _________\n",
       "⎜        ╱      2                ╱      2                           ╱      2  \n",
       "⎜x⋅x_c⋅╲╱  - z_c  + 1    y⋅y_c⋅╲╱  - z_c  + 1               x⋅x_c⋅╲╱  - z_c  +\n",
       "⎜───────────────────── + ───────────────────── + z⋅z_c + 1  ──────────────────\n",
       "⎜      _____________           _____________                      ____________\n",
       "⎜     ╱    2      2           ╱    2      2                      ╱    2      2\n",
       "⎝   ╲╱  x_c  + y_c          ╲╱  x_c  + y_c                     ╲╱  x_c  + y_c \n",
       "\n",
       "                           ____________⎞\n",
       "      y⋅y_c⋅z_c           ╱      2     ⎟\n",
       " - ──────────────── + z⋅╲╱  - z_c  + 1 ⎟\n",
       "      _____________                    ⎟\n",
       "     ╱    2      2                     ⎟\n",
       "   ╲╱  x_c  + y_c                      ⎟\n",
       "───────────────────────────────────────⎟\n",
       "___            ____________            ⎟\n",
       "              ╱      2                 ⎟\n",
       " 1    y⋅y_c⋅╲╱  - z_c  + 1             ⎟\n",
       "─── + ───────────────────── + z⋅z_c + 1⎟\n",
       "_           _____________              ⎟\n",
       "           ╱    2      2               ⎟\n",
       "         ╲╱  x_c  + y_c                ⎠"
      ]
     },
     "execution_count": 184,
     "metadata": {},
     "output_type": "execute_result"
    }
   ],
   "source": [
    "xp, yp = projections._derive_stereographic()\n",
    "xp, yp"
   ]
  },
  {
   "cell_type": "code",
   "execution_count": 185,
   "metadata": {},
   "outputs": [
    {
     "name": "stdout",
     "output_type": "stream",
     "text": [
      "(x*y_c/sqrt(x_c**2 + y_c**2) - x_c*y/sqrt(x_c**2 + y_c**2))/(x*x_c*sqrt(-z_c**2 + 1)/sqrt(x_c**2 + y_c**2) + y*y_c*sqrt(-z_c**2 + 1)/sqrt(x_c**2 + y_c**2) + z*z_c + 1)\n",
      "(-x*x_c*z_c/sqrt(x_c**2 + y_c**2) - y*y_c*z_c/sqrt(x_c**2 + y_c**2) + z*sqrt(-z_c**2 + 1))/(x*x_c*sqrt(-z_c**2 + 1)/sqrt(x_c**2 + y_c**2) + y*y_c*sqrt(-z_c**2 + 1)/sqrt(x_c**2 + y_c**2) + z*z_c + 1)\n"
     ]
    }
   ],
   "source": [
    "print(xp)\n",
    "print(yp)"
   ]
  },
  {
   "cell_type": "markdown",
   "metadata": {},
   "source": [
    "# Stereographic"
   ]
  },
  {
   "cell_type": "code",
   "execution_count": 121,
   "metadata": {},
   "outputs": [],
   "source": [
    "x, y, z, x_i, y_i, z_i = symbols('x y z x_i y_i z_i')"
   ]
  },
  {
   "cell_type": "code",
   "execution_count": 122,
   "metadata": {},
   "outputs": [],
   "source": [
    "a = atan2(y, x)"
   ]
  },
  {
   "cell_type": "code",
   "execution_count": 127,
   "metadata": {},
   "outputs": [],
   "source": [
    "b = acos(z)"
   ]
  },
  {
   "cell_type": "code",
   "execution_count": 130,
   "metadata": {},
   "outputs": [],
   "source": [
    "xr, yr, zr = rot_axis1(b) * rot_axis3(-a) * Matrix([x_i, y_i, z_i])"
   ]
  },
  {
   "cell_type": "code",
   "execution_count": 131,
   "metadata": {},
   "outputs": [
    {
     "data": {
      "image/png": "[encoded data removed]",
      "text/latex": [
       "$$\\frac{x x_{i}}{\\sqrt{x^{2} + y^{2}}} - \\frac{y y_{i}}{\\sqrt{x^{2} + y^{2}}}$$"
      ],
      "text/plain": [
       "    x⋅xᵢ           y⋅yᵢ    \n",
       "──────────── - ────────────\n",
       "   _________      _________\n",
       "  ╱  2    2      ╱  2    2 \n",
       "╲╱  x  + y     ╲╱  x  + y  "
      ]
     },
     "execution_count": 131,
     "metadata": {},
     "output_type": "execute_result"
    }
   ],
   "source": []
  },
  {
   "cell_type": "code",
   "execution_count": null,
   "metadata": {},
   "outputs": [],
   "source": []
  },
  {
   "cell_type": "code",
   "execution_count": null,
   "metadata": {},
   "outputs": [],
   "source": []
  },
  {
   "cell_type": "code",
   "execution_count": null,
   "metadata": {},
   "outputs": [],
   "source": []
  },
  {
   "cell_type": "code",
   "execution_count": null,
   "metadata": {},
   "outputs": [],
   "source": []
  },
  {
   "cell_type": "code",
   "execution_count": null,
   "metadata": {},
   "outputs": [],
   "source": []
  },
  {
   "cell_type": "code",
   "execution_count": null,
   "metadata": {},
   "outputs": [],
   "source": []
  },
  {
   "cell_type": "code",
   "execution_count": null,
   "metadata": {},
   "outputs": [],
   "source": []
  },
  {
   "cell_type": "code",
   "execution_count": null,
   "metadata": {},
   "outputs": [],
   "source": []
  },
  {
   "cell_type": "code",
   "execution_count": null,
   "metadata": {},
   "outputs": [],
   "source": []
  },
  {
   "cell_type": "code",
   "execution_count": null,
   "metadata": {},
   "outputs": [],
   "source": []
  },
  {
   "cell_type": "code",
   "execution_count": null,
   "metadata": {},
   "outputs": [],
   "source": []
  },
  {
   "cell_type": "code",
   "execution_count": null,
   "metadata": {},
   "outputs": [],
   "source": []
  },
  {
   "cell_type": "code",
   "execution_count": null,
   "metadata": {},
   "outputs": [],
   "source": []
  },
  {
   "cell_type": "code",
   "execution_count": null,
   "metadata": {},
   "outputs": [],
   "source": []
  },
  {
   "cell_type": "code",
   "execution_count": null,
   "metadata": {},
   "outputs": [],
   "source": []
  },
  {
   "cell_type": "code",
   "execution_count": null,
   "metadata": {},
   "outputs": [],
   "source": []
  },
  {
   "cell_type": "code",
   "execution_count": null,
   "metadata": {},
   "outputs": [],
   "source": []
  },
  {
   "cell_type": "code",
   "execution_count": null,
   "metadata": {},
   "outputs": [],
   "source": []
  }
 ],
 "metadata": {
  "kernelspec": {
   "display_name": "Python 3",
   "language": "python",
   "name": "python3"
  },
  "language_info": {
   "codemirror_mode": {
    "name": "ipython",
    "version": 3
   },
   "file_extension": ".py",
   "mimetype": "text/x-python",
   "name": "python",
   "nbconvert_exporter": "python",
   "pygments_lexer": "ipython3",
   "version": "3.6.5"
  }
 },
 "nbformat": 4,
 "nbformat_minor": 2
}
