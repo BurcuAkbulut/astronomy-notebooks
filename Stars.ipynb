{
 "cells": [
  {
   "cell_type": "code",
   "execution_count": null,
   "metadata": {
    "collapsed": false
   },
   "outputs": [],
   "source": [
    "%pylab inline"
   ]
  },
  {
   "cell_type": "code",
   "execution_count": null,
   "metadata": {
    "collapsed": false
   },
   "outputs": [],
   "source": [
    "tau = 2.0 * pi"
   ]
  },
  {
   "cell_type": "code",
   "execution_count": null,
   "metadata": {
    "collapsed": false
   },
   "outputs": [],
   "source": [
    "import ephem\n",
    "from ephem.stars import stars"
   ]
  },
  {
   "cell_type": "code",
   "execution_count": null,
   "metadata": {
    "collapsed": false
   },
   "outputs": [],
   "source": [
    "len(stars)"
   ]
  },
  {
   "cell_type": "code",
   "execution_count": null,
   "metadata": {
    "collapsed": false
   },
   "outputs": [],
   "source": [
    "starlist = stars.values()"
   ]
  },
  {
   "cell_type": "code",
   "execution_count": null,
   "metadata": {
    "collapsed": false
   },
   "outputs": [],
   "source": [
    "for star in starlist:\n",
    "    star.compute('2012/1/10')"
   ]
  },
  {
   "cell_type": "code",
   "execution_count": null,
   "metadata": {
    "collapsed": false
   },
   "outputs": [],
   "source": [
    "degree = tau / 360.0\n",
    "hour = tau / 24.0\n",
    "\n",
    "ra_list = [star.ra / hour for star in starlist]\n",
    "dec_list = [star.dec / degree for star in starlist]"
   ]
  },
  {
   "cell_type": "code",
   "execution_count": null,
   "metadata": {
    "collapsed": false
   },
   "outputs": [],
   "source": [
    "scatter(ra_list, dec_list)\n",
    "gca().invert_xaxis()"
   ]
  },
  {
   "cell_type": "code",
   "execution_count": null,
   "metadata": {
    "collapsed": false
   },
   "outputs": [],
   "source": [
    "scatter(ra_list, dec_list)\n",
    "axis([7.5, 3.5, -20, 20])"
   ]
  },
  {
   "cell_type": "code",
   "execution_count": null,
   "metadata": {
    "collapsed": false
   },
   "outputs": [],
   "source": [
    "orion_axes = [7.5, 3.5, -20, 20]"
   ]
  },
  {
   "cell_type": "code",
   "execution_count": null,
   "metadata": {
    "collapsed": false
   },
   "outputs": [],
   "source": [
    "print starlist[0].name\n",
    "print starlist[0].mag\n",
    "print starlist[0]._spect"
   ]
  },
  {
   "cell_type": "code",
   "execution_count": null,
   "metadata": {
    "collapsed": false
   },
   "outputs": [],
   "source": [
    "[star.mag for star in starlist[:5]]"
   ]
  },
  {
   "cell_type": "code",
   "execution_count": null,
   "metadata": {
    "collapsed": false
   },
   "outputs": [],
   "source": [
    "mag_array = np.array([ star.mag for star in starlist ])\n",
    "mag_array[:5]"
   ]
  },
  {
   "cell_type": "code",
   "execution_count": null,
   "metadata": {
    "collapsed": false
   },
   "outputs": [],
   "source": [
    "size_array = (5 - mag_array) ** 1.5 * 4\n",
    "size_array[:5]"
   ]
  },
  {
   "cell_type": "code",
   "execution_count": null,
   "metadata": {
    "collapsed": false
   },
   "outputs": [],
   "source": [
    "scatter(ra_list, dec_list, size_array)\n",
    "axis(orion_axes)"
   ]
  },
  {
   "cell_type": "code",
   "execution_count": null,
   "metadata": {
    "collapsed": false
   },
   "outputs": [],
   "source": [
    "spectral_list = [star._spect for star in starlist]\n",
    "spectral_list[:10]"
   ]
  },
  {
   "cell_type": "code",
   "execution_count": null,
   "metadata": {
    "collapsed": false
   },
   "outputs": [],
   "source": [
    "from spectral_classification import build_color_chart\n",
    "color_chart = build_color_chart('starcolors.txt')"
   ]
  },
  {
   "cell_type": "code",
   "execution_count": null,
   "metadata": {
    "collapsed": false
   },
   "outputs": [],
   "source": [
    "color_list = [color_chart[spectral_class + '(V)']\n",
    "              for spectral_class in spectral_list]"
   ]
  },
  {
   "cell_type": "code",
   "execution_count": null,
   "metadata": {
    "collapsed": false
   },
   "outputs": [],
   "source": [
    "scatter(ra_list, dec_list, size_array, color_list)\n",
    "axis(orion_axes)"
   ]
  },
  {
   "cell_type": "code",
   "execution_count": null,
   "metadata": {
    "collapsed": false
   },
   "outputs": [],
   "source": [
    "def pretty_hours(h, pos=None):\n",
    "    if h % 1.0 == 0.0:\n",
    "        return '{:.0g}h'.format(h)\n",
    "    else:\n",
    "        return '{:.2g}h'.format(h)\n",
    "\n",
    "def pretty_degrees(d, pos=None):\n",
    "    return u'{}°'.format(d)\n",
    "\n",
    "print pretty_hours(3.5)\n",
    "print pretty_hours(5.0)\n",
    "print pretty_degrees(125)\n",
    "print pretty_degrees(360)"
   ]
  },
  {
   "cell_type": "code",
   "execution_count": null,
   "metadata": {
    "collapsed": false
   },
   "outputs": [],
   "source": [
    "from matplotlib.ticker import FuncFormatter\n",
    "\n",
    "hours_formatter = FuncFormatter(pretty_hours)\n",
    "degrees_formatter = FuncFormatter(pretty_degrees)"
   ]
  },
  {
   "cell_type": "code",
   "execution_count": null,
   "metadata": {
    "collapsed": false
   },
   "outputs": [],
   "source": [
    "scatter(ra_list, dec_list, size_array, color_list)\n",
    "axis(orion_axes)\n",
    "gca().xaxis.set_major_formatter(hours_formatter)\n",
    "gca().yaxis.set_major_formatter(degrees_formatter)"
   ]
  },
  {
   "cell_type": "code",
   "execution_count": null,
   "metadata": {
    "collapsed": false
   },
   "outputs": [],
   "source": [
    "scatter(ra_list, dec_list, size_array, color_list)\n",
    "axis(orion_axes)\n",
    "gca().xaxis.set_major_formatter(hours_formatter)\n",
    "gca().yaxis.set_major_formatter(degrees_formatter)\n",
    "gca().xaxis.grid(True)\n",
    "gca().yaxis.grid(True)"
   ]
  },
  {
   "cell_type": "code",
   "execution_count": null,
   "metadata": {
    "collapsed": false
   },
   "outputs": [],
   "source": []
  }
 ],
 "metadata": {
  "kernelspec": {
   "display_name": "Python 2",
   "language": "python",
   "name": "python2"
  },
  "language_info": {
   "codemirror_mode": {
    "name": "ipython",
    "version": 2
   },
   "file_extension": ".py",
   "mimetype": "text/x-python",
   "name": "python",
   "nbconvert_exporter": "python",
   "pygments_lexer": "ipython2",
   "version": "2.7.9"
  }
 },
 "nbformat": 4,
 "nbformat_minor": 0
}
