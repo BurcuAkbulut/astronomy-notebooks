{
 "cells": [
  {
   "cell_type": "code",
   "execution_count": null,
   "metadata": {
    "collapsed": false
   },
   "outputs": [],
   "source": [
    "%pylab inline\n",
    "import pandas as pd\n",
    "import seaborn as sb\n",
    "from urllib2 import urlopen"
   ]
  },
  {
   "cell_type": "code",
   "execution_count": null,
   "metadata": {
    "collapsed": true
   },
   "outputs": [],
   "source": [
    "%load_ext autoreload\n",
    "%autoreload 2\n",
    "\n",
    "from skyfield.data import earth_orientation as eo"
   ]
  },
  {
   "cell_type": "code",
   "execution_count": null,
   "metadata": {
    "collapsed": true
   },
   "outputs": [],
   "source": [
    "cache = {}\n",
    "\n",
    "def get(url):\n",
    "    if url not in cache:\n",
    "        content = urlopen(url).read()\n",
    "        cache[url] = content\n",
    "    return cache[url]"
   ]
  },
  {
   "cell_type": "code",
   "execution_count": null,
   "metadata": {
    "collapsed": false
   },
   "outputs": [],
   "source": [
    "tables = pd.read_html(get('http://eclipse.gsfc.nasa.gov/SEcat5/deltat.html'))\n",
    "print len(tables)"
   ]
  },
  {
   "cell_type": "code",
   "execution_count": null,
   "metadata": {
    "collapsed": false
   },
   "outputs": [],
   "source": [
    "t = tables[0]\n",
    "t.columns = ['year', 'delta_t', 'error']\n",
    "t = t[['year', 'delta_t']]\n",
    "nasa_eclipse_morrison_and_stephenson_2004 = t\n",
    "t.head()"
   ]
  },
  {
   "cell_type": "code",
   "execution_count": null,
   "metadata": {
    "collapsed": false
   },
   "outputs": [],
   "source": [
    "t = tables[1]\n",
    "t.columns = ['year', 'delta_t', 'change1', 'change5']\n",
    "t = t[['year', 'delta_t']]\n",
    "nasa_eclipse_astronomical_almanac_2006 = t\n",
    "t.head()"
   ]
  },
  {
   "cell_type": "markdown",
   "metadata": {},
   "source": [
    "## IERS Rapid Service/Prediction Center?"
   ]
  },
  {
   "cell_type": "code",
   "execution_count": null,
   "metadata": {
    "collapsed": false
   },
   "outputs": [],
   "source": [
    "from StringIO import StringIO\n",
    "text = get('http://maia.usno.navy.mil/ser7/deltat.data')\n",
    "t = pd.read_table(StringIO(text), sep=r' +', engine='python', names=['year', 'month', 'error', 'delta_t'])\n",
    "maia_monthly_delta_t = t\n",
    "t.head()"
   ]
  },
  {
   "cell_type": "code",
   "execution_count": null,
   "metadata": {
    "collapsed": false
   },
   "outputs": [],
   "source": [
    "text = get('http://maia.usno.navy.mil/ser7/deltat.preds')\n",
    "t = pd.read_table(StringIO(text), sep=r'  +', engine='python')\n",
    "t['year'] = t.pop('YEAR')\n",
    "t['delta_t'] = t.pop('TT-UT PREDICTION')\n",
    "t = t[['year', 'delta_t']]\n",
    "maia_predicted_delta_t = t\n",
    "t.head()"
   ]
  },
  {
   "cell_type": "code",
   "execution_count": null,
   "metadata": {
    "collapsed": false
   },
   "outputs": [],
   "source": [
    "text = get('http://maia.usno.navy.mil/ser7/historic_deltat.data')\n",
    "t = pd.read_table(StringIO(text), sep=r' +', engine='python')\n",
    "t = t[t['error'] != '(ms)']\n",
    "t['year'] = t.pop('Year')\n",
    "t['delta_t'] = t.pop('TDT-UT1')\n",
    "t = t[['year', 'delta_t']]\n",
    "maia_biannual_delta_t = t\n",
    "t.head()"
   ]
  },
  {
   "cell_type": "code",
   "execution_count": null,
   "metadata": {
    "collapsed": true
   },
   "outputs": [],
   "source": []
  },
  {
   "cell_type": "code",
   "execution_count": null,
   "metadata": {
    "collapsed": true
   },
   "outputs": [],
   "source": []
  },
  {
   "cell_type": "code",
   "execution_count": null,
   "metadata": {
    "collapsed": true
   },
   "outputs": [],
   "source": []
  },
  {
   "cell_type": "code",
   "execution_count": null,
   "metadata": {
    "collapsed": true
   },
   "outputs": [],
   "source": []
  },
  {
   "cell_type": "code",
   "execution_count": null,
   "metadata": {
    "collapsed": false
   },
   "outputs": [],
   "source": []
  },
  {
   "cell_type": "code",
   "execution_count": null,
   "metadata": {
    "collapsed": false
   },
   "outputs": [],
   "source": []
  },
  {
   "cell_type": "code",
   "execution_count": null,
   "metadata": {
    "collapsed": false
   },
   "outputs": [],
   "source": [
    "def \n",
    "    y = year + (month - 0.5)/12\n",
    "This gives \"y\" for the middle of the month, which is accurate enough given the precision in the known values of ΔT. The following polynomial expressions can be used calculate the value of ΔT (in seconds) over the time period covered by of the Five Millennium Canon of Solar Eclipses: -1999 to +3000.\n",
    "\n",
    "Before the year -500, calculate:\n",
    "\n",
    "\t\tΔT = -20 + 32 * u^2\n",
    "\t\twhere:\tu = (year-1820)/100\n",
    "Between years -500 and +500, we use the data from Table 1, except that for the year -500 we changed the value 17190 to 17203.7 in order to avoid a discontinuity with the previous formula at that epoch. The value for ΔT is given by a polynomial of the 6th degree, which reproduces the values in Table 1 with an error not larger than 4 seconds:\n",
    "\n",
    "\tΔT = 10583.6 - 1014.41 * u + 33.78311 * u^2 - 5.952053 * u^3\n",
    "\t\t- 0.1798452 * u^4 + 0.022174192 * u^5 + 0.0090316521 * u^6 \n",
    "\twhere: u = y/100\n",
    "Between years +500 and +1600, we again use the data from Table 1 to derive a polynomial of the 6th degree.\n",
    "\n",
    "\tΔT = 1574.2 - 556.01 * u + 71.23472 * u^2 + 0.319781 * u^3\n",
    "\t\t- 0.8503463 * u^4 - 0.005050998 * u^5 + 0.0083572073 * u^6\n",
    "\twhere: u = (y-1000)/100\n",
    "Between years +1600 and +1700, calculate:\n",
    "\n",
    "\tΔT = 120 - 0.9808 * t - 0.01532 * t^2 + t^3 / 7129\n",
    "\twhere:  t = y - 1600\n",
    "Between years +1700 and +1800, calculate:\n",
    "\n",
    "\tΔT = 8.83 + 0.1603 * t - 0.0059285 * t^2 + 0.00013336 * t^3 - t^4 / 1174000\n",
    "\twhere: t = y - 1700\n",
    "Between years +1800 and +1860, calculate:\n",
    "\n",
    "\tΔT = 13.72 - 0.332447 * t + 0.0068612 * t^2 + 0.0041116 * t^3 - 0.00037436 * t^4 \n",
    "\t\t+ 0.0000121272 * t^5 - 0.0000001699 * t^6 + 0.000000000875 * t^7\n",
    "\twhere: t = y - 1800\n",
    "Between years 1860 and 1900, calculate:\n",
    "\n",
    "\tΔT = 7.62 + 0.5737 * t - 0.251754 * t^2 + 0.01680668 * t^3\n",
    "\t\t-0.0004473624 * t^4 + t^5 / 233174\n",
    "\twhere: t = y - 1860\n",
    "Between years 1900 and 1920, calculate:\n",
    "\n",
    "\tΔT = -2.79 + 1.494119 * t - 0.0598939 * t^2 + 0.0061966 * t^3 - 0.000197 * t^4\n",
    "\twhere: t = y - 1900\n",
    "Between years 1920 and 1941, calculate:\n",
    "\n",
    "\tΔT = 21.20 + 0.84493*t - 0.076100 * t^2 + 0.0020936 * t^3\n",
    "\twhere: t = y - 1920\n",
    "Between years 1941 and 1961, calculate:\n",
    "\n",
    "\tΔT = 29.07 + 0.407*t - t^2/233 + t^3 / 2547\n",
    "\twhere: t = y - 1950\n",
    "Between years 1961 and 1986, calculate:\n",
    "\n",
    "\tΔT = 45.45 + 1.067*t - t^2/260 - t^3 / 718\n",
    "\twhere: t = y - 1975\n",
    "Between years 1986 and 2005, calculate:\n",
    "\n",
    "\tΔT = 63.86 + 0.3345 * t - 0.060374 * t^2 + 0.0017275 * t^3 + 0.000651814 * t^4 \n",
    "\t\t+ 0.00002373599 * t^5\n",
    "\twhere: t = y - 2000\n",
    "Between years 2005 and 2050, calculate:\n",
    "\n",
    "\tΔT = 62.92 + 0.32217 * t + 0.005589 * t^2\n",
    "\twhere: t = y - 2000\n",
    "This expression is derived from estimated values of ΔT in the years 2010 and 2050. The value for 2010 (66.9 seconds) is based on a linearly extrapolation from 2005 using 0.39 seconds/year (average from 1995 to 2005). The value for 2050 (93 seconds) is linearly extrapolated from 2010 using 0.66 seconds/year (average rate from 1901 to 2000).\n",
    "\n",
    "Between years 2050 and 2150, calculate:\n",
    "\n",
    "\tΔT = -20 + 32 * ((y-1820)/100)^2 - 0.5628 * (2150 - y)\n",
    "The last term is introduced to eliminate the discontinuity at 2050.\n",
    "\n",
    "After 2150, calculate:\n",
    "\n",
    "\tΔT = -20 + 32 * u^2\n",
    "\twhere:\tu = (year-1820)/100\n",
    "All values of ΔT based on Morrison and Stephenson [2004] assume a value for the Moon's secular acceleration of -26 arcsec/cy^2. However, the ELP-2000/82 lunar ephemeris employed in the Canon uses a slightly different value of -25.858 arcsec/cy^2. Thus, a small correction \"c\" must be added to the values derived from the polynomial expressions for ΔT before they can be used in the Canon\n",
    "\n",
    "\tc = -0.000012932 * (y - 1955)^2\n",
    "Since the values of ΔT for the interval 1955 to 2005 were derived independent of any lunar ephemeris, no correction is needed for this period.\n",
    "\n",
    "The uncertainty in ΔT over this period can be estimated from scatter in the measurements.\n",
    "\n",
    "References\n",
    "\n",
    "Morrison, L. and Stephenson, F. R., \"Historical Values of the Earth's Clock Error ΔT and the Calculation of Eclipses\", J. Hist. Astron., Vol. 35 Part 3, August 2004, No. 120, pp 327-336 (2004).\n",
    "\n",
    "Stephenson F.R and Houlden M.A., Atlas of Historical Eclipse Maps, Cambridge Univ.Press., Cambridge, 1986.\n",
    "\n",
    "Home\n",
    "Solar Eclipses\n",
    "Lunar Eclipses\n",
    "Transits\n",
    "Resources\n",
    "+ Heliophysics Science Division, Code 670\n",
    "NASA Goddard Space Flight Center\n",
    "Greenbelt, MD 20771, USA\n",
    "+ Privacy Policy and Important Notices\n",
    "NASA Logo - nasa.gov\n",
    "Website Manager: Robert.M.Candey@nasa.gov\n",
    "Responsible NASA Official: Alex Young\n",
    "Last Updated: 2007 March 27"
   ]
  },
  {
   "cell_type": "code",
   "execution_count": null,
   "metadata": {
    "collapsed": false
   },
   "outputs": [],
   "source": []
  },
  {
   "cell_type": "code",
   "execution_count": null,
   "metadata": {
    "collapsed": false
   },
   "outputs": [],
   "source": []
  },
  {
   "cell_type": "code",
   "execution_count": null,
   "metadata": {
    "collapsed": false
   },
   "outputs": [],
   "source": []
  },
  {
   "cell_type": "code",
   "execution_count": null,
   "metadata": {
    "collapsed": false
   },
   "outputs": [],
   "source": []
  },
  {
   "cell_type": "code",
   "execution_count": null,
   "metadata": {
    "collapsed": false
   },
   "outputs": [],
   "source": []
  },
  {
   "cell_type": "code",
   "execution_count": null,
   "metadata": {
    "collapsed": false
   },
   "outputs": [],
   "source": []
  },
  {
   "cell_type": "code",
   "execution_count": null,
   "metadata": {
    "collapsed": false
   },
   "outputs": [],
   "source": []
  },
  {
   "cell_type": "code",
   "execution_count": null,
   "metadata": {
    "collapsed": false
   },
   "outputs": [],
   "source": []
  },
  {
   "cell_type": "code",
   "execution_count": null,
   "metadata": {
    "collapsed": false
   },
   "outputs": [],
   "source": []
  },
  {
   "cell_type": "code",
   "execution_count": null,
   "metadata": {
    "collapsed": false
   },
   "outputs": [],
   "source": []
  },
  {
   "cell_type": "code",
   "execution_count": null,
   "metadata": {
    "collapsed": false
   },
   "outputs": [],
   "source": [
    "def plot_all():\n",
    "    plot(nasa_eclipse_morrison_and_stephenson_2004.year,\n",
    "         nasa_eclipse_morrison_and_stephenson_2004.delta_t)\n",
    "\n",
    "    plot(nasa_eclipse_astronomical_almanac_2006.year,\n",
    "         nasa_eclipse_astronomical_almanac_2006.delta_t, 'ro')"
   ]
  },
  {
   "cell_type": "code",
   "execution_count": null,
   "metadata": {
    "collapsed": false
   },
   "outputs": [],
   "source": [
    "plot_all()"
   ]
  },
  {
   "cell_type": "code",
   "execution_count": null,
   "metadata": {
    "collapsed": false
   },
   "outputs": [],
   "source": [
    "plot_all()\n",
    "xlim(1940, 2040)"
   ]
  },
  {
   "cell_type": "code",
   "execution_count": null,
   "metadata": {
    "collapsed": true
   },
   "outputs": [],
   "source": []
  },
  {
   "cell_type": "code",
   "execution_count": null,
   "metadata": {
    "collapsed": true
   },
   "outputs": [],
   "source": []
  },
  {
   "cell_type": "code",
   "execution_count": null,
   "metadata": {
    "collapsed": true
   },
   "outputs": [],
   "source": []
  },
  {
   "cell_type": "code",
   "execution_count": null,
   "metadata": {
    "collapsed": true
   },
   "outputs": [],
   "source": []
  },
  {
   "cell_type": "code",
   "execution_count": null,
   "metadata": {
    "collapsed": true
   },
   "outputs": [],
   "source": []
  },
  {
   "cell_type": "code",
   "execution_count": null,
   "metadata": {
    "collapsed": true
   },
   "outputs": [],
   "source": []
  },
  {
   "cell_type": "code",
   "execution_count": null,
   "metadata": {
    "collapsed": true
   },
   "outputs": [],
   "source": []
  },
  {
   "cell_type": "code",
   "execution_count": null,
   "metadata": {
    "collapsed": true
   },
   "outputs": [],
   "source": []
  },
  {
   "cell_type": "code",
   "execution_count": null,
   "metadata": {
    "collapsed": true
   },
   "outputs": [],
   "source": []
  },
  {
   "cell_type": "code",
   "execution_count": null,
   "metadata": {
    "collapsed": true
   },
   "outputs": [],
   "source": []
  },
  {
   "cell_type": "code",
   "execution_count": null,
   "metadata": {
    "collapsed": true
   },
   "outputs": [],
   "source": []
  },
  {
   "cell_type": "code",
   "execution_count": null,
   "metadata": {
    "collapsed": true
   },
   "outputs": [],
   "source": []
  }
 ],
 "metadata": {
  "kernelspec": {
   "display_name": "Python 2",
   "language": "python",
   "name": "python2"
  },
  "language_info": {
   "codemirror_mode": {
    "name": "ipython",
    "version": 2
   },
   "file_extension": ".py",
   "mimetype": "text/x-python",
   "name": "python",
   "nbconvert_exporter": "python",
   "pygments_lexer": "ipython2",
   "version": "2.7.10"
  }
 },
 "nbformat": 4,
 "nbformat_minor": 0
}
